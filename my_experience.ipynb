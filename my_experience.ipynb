{
 "cells": [
  {
   "cell_type": "markdown",
   "metadata": {},
   "source": [
    "<font color='blue' size='5'>I am expert in statistical data analysis, machine learning algorithms, and multi-omics NGS data that helps us deep understand cancer and complex system.\n"
   ]
  },
  {
   "cell_type": "markdown",
   "metadata": {},
   "source": [
    "<font color='blue' size='5'>\n",
    "My developed pipeline to analyze:\n",
    "<font color='black' size='5'>\n",
    "1. __[Metabolomics](https://pubs.acs.org/doi/full/10.1021/acs.jproteome.7b00595)__\n",
    "2. __[Microbiome](https://pubs.acs.org/doi/full/10.1021/acs.jproteome.7b00595)__\n",
    "3. __[RNA-SEQ](https://pubs.acs.org/doi/full/10.1021/acs.jproteome.7b00595)__\n",
    "4. __[Methylation](https://pubs.acs.org/doi/full/10.1021/acs.jproteome.7b00595)__\n",
    "5. __[Drug](https://pubs.acs.org/doi/full/10.1021/acs.jproteome.7b00595)__"
   ]
  },
  {
   "cell_type": "code",
   "execution_count": null,
   "metadata": {},
   "outputs": [],
   "source": []
  },
  {
   "cell_type": "code",
   "execution_count": null,
   "metadata": {},
   "outputs": [],
   "source": []
  },
  {
   "cell_type": "code",
   "execution_count": null,
   "metadata": {},
   "outputs": [],
   "source": []
  },
  {
   "cell_type": "code",
   "execution_count": null,
   "metadata": {},
   "outputs": [],
   "source": []
  },
  {
   "cell_type": "code",
   "execution_count": null,
   "metadata": {},
   "outputs": [],
   "source": []
  }
 ],
 "metadata": {
  "kernelspec": {
   "display_name": "R",
   "language": "R",
   "name": "ir"
  },
  "language_info": {
   "codemirror_mode": "r",
   "file_extension": ".r",
   "mimetype": "text/x-r-source",
   "name": "R",
   "pygments_lexer": "r",
   "version": "3.4.3"
  }
 },
 "nbformat": 4,
 "nbformat_minor": 2
}
